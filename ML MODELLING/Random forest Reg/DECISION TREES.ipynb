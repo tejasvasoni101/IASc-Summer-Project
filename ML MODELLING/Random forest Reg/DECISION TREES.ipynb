{
 "cells": [
  {
   "cell_type": "markdown",
   "id": "b97c341b",
   "metadata": {},
   "source": [
    "IMPORTING PACKAGES"
   ]
  },
  {
   "cell_type": "code",
   "execution_count": 1,
   "id": "5543d70b",
   "metadata": {},
   "outputs": [],
   "source": [
    "import pandas as pd\n",
    "import numpy as np\n",
    "import matplotlib.pyplot as plt\n",
    "%matplotlib inline\n",
    "from sklearn.model_selection import train_test_split\n",
    "\n",
    "from sklearn import preprocessing\n",
    "\n",
    "from sklearn.ensemble import RandomForestRegressor"
   ]
  },
  {
   "cell_type": "markdown",
   "id": "ac3a60b3",
   "metadata": {},
   "source": [
    "LOADING DATA"
   ]
  },
  {
   "cell_type": "code",
   "execution_count": 2,
   "id": "2501d435",
   "metadata": {
    "scrolled": false
   },
   "outputs": [],
   "source": [
    "raw_data = pd.read_csv('C:/Users/ronin/Google Drive/IAS ML MODEL/ML MODELLING/1500-1800-1.33-1.5.csv')\n",
    "# print(raw_data.info())"
   ]
  },
  {
   "cell_type": "code",
   "execution_count": 3,
   "id": "4bfa24fc",
   "metadata": {},
   "outputs": [
    {
     "data": {
      "text/html": [
       "<div>\n",
       "<style scoped>\n",
       "    .dataframe tbody tr th:only-of-type {\n",
       "        vertical-align: middle;\n",
       "    }\n",
       "\n",
       "    .dataframe tbody tr th {\n",
       "        vertical-align: top;\n",
       "    }\n",
       "\n",
       "    .dataframe thead th {\n",
       "        text-align: right;\n",
       "    }\n",
       "</style>\n",
       "<table border=\"1\" class=\"dataframe\">\n",
       "  <thead>\n",
       "    <tr style=\"text-align: right;\">\n",
       "      <th></th>\n",
       "      <th>REF</th>\n",
       "      <th></th>\n",
       "      <th></th>\n",
       "      <th></th>\n",
       "      <th></th>\n",
       "      <th></th>\n",
       "      <th></th>\n",
       "      <th></th>\n",
       "      <th></th>\n",
       "      <th></th>\n",
       "      <th>...</th>\n",
       "      <th></th>\n",
       "      <th></th>\n",
       "      <th></th>\n",
       "      <th></th>\n",
       "      <th></th>\n",
       "      <th></th>\n",
       "      <th></th>\n",
       "      <th></th>\n",
       "      <th></th>\n",
       "      <th></th>\n",
       "    </tr>\n",
       "  </thead>\n",
       "  <tbody>\n",
       "    <tr>\n",
       "      <th>0</th>\n",
       "      <td>1.3334</td>\n",
       "      <td>0.005599</td>\n",
       "      <td>0.005607</td>\n",
       "      <td>0.005619</td>\n",
       "      <td>0.005636</td>\n",
       "      <td>0.005658</td>\n",
       "      <td>0.005685</td>\n",
       "      <td>0.005718</td>\n",
       "      <td>0.005758</td>\n",
       "      <td>0.005805</td>\n",
       "      <td>...</td>\n",
       "      <td>0.006759</td>\n",
       "      <td>0.006558</td>\n",
       "      <td>0.006369</td>\n",
       "      <td>0.006191</td>\n",
       "      <td>0.006022</td>\n",
       "      <td>0.005862</td>\n",
       "      <td>0.005710</td>\n",
       "      <td>0.005565</td>\n",
       "      <td>0.005427</td>\n",
       "      <td>0.005294</td>\n",
       "    </tr>\n",
       "    <tr>\n",
       "      <th>1</th>\n",
       "      <td>1.3351</td>\n",
       "      <td>0.005589</td>\n",
       "      <td>0.005596</td>\n",
       "      <td>0.005606</td>\n",
       "      <td>0.005622</td>\n",
       "      <td>0.005642</td>\n",
       "      <td>0.005667</td>\n",
       "      <td>0.005698</td>\n",
       "      <td>0.005735</td>\n",
       "      <td>0.005779</td>\n",
       "      <td>...</td>\n",
       "      <td>0.006777</td>\n",
       "      <td>0.006576</td>\n",
       "      <td>0.006386</td>\n",
       "      <td>0.006208</td>\n",
       "      <td>0.006039</td>\n",
       "      <td>0.005878</td>\n",
       "      <td>0.005726</td>\n",
       "      <td>0.005580</td>\n",
       "      <td>0.005441</td>\n",
       "      <td>0.005309</td>\n",
       "    </tr>\n",
       "    <tr>\n",
       "      <th>2</th>\n",
       "      <td>1.3368</td>\n",
       "      <td>0.005579</td>\n",
       "      <td>0.005584</td>\n",
       "      <td>0.005594</td>\n",
       "      <td>0.005608</td>\n",
       "      <td>0.005626</td>\n",
       "      <td>0.005649</td>\n",
       "      <td>0.005678</td>\n",
       "      <td>0.005713</td>\n",
       "      <td>0.005754</td>\n",
       "      <td>...</td>\n",
       "      <td>0.006795</td>\n",
       "      <td>0.006593</td>\n",
       "      <td>0.006403</td>\n",
       "      <td>0.006224</td>\n",
       "      <td>0.006055</td>\n",
       "      <td>0.005894</td>\n",
       "      <td>0.005741</td>\n",
       "      <td>0.005596</td>\n",
       "      <td>0.005456</td>\n",
       "      <td>0.005323</td>\n",
       "    </tr>\n",
       "    <tr>\n",
       "      <th>3</th>\n",
       "      <td>1.3385</td>\n",
       "      <td>0.005569</td>\n",
       "      <td>0.005573</td>\n",
       "      <td>0.005582</td>\n",
       "      <td>0.005594</td>\n",
       "      <td>0.005611</td>\n",
       "      <td>0.005633</td>\n",
       "      <td>0.005659</td>\n",
       "      <td>0.005692</td>\n",
       "      <td>0.005731</td>\n",
       "      <td>...</td>\n",
       "      <td>0.006813</td>\n",
       "      <td>0.006611</td>\n",
       "      <td>0.006421</td>\n",
       "      <td>0.006241</td>\n",
       "      <td>0.006071</td>\n",
       "      <td>0.005910</td>\n",
       "      <td>0.005757</td>\n",
       "      <td>0.005611</td>\n",
       "      <td>0.005472</td>\n",
       "      <td>0.005338</td>\n",
       "    </tr>\n",
       "    <tr>\n",
       "      <th>4</th>\n",
       "      <td>1.3402</td>\n",
       "      <td>0.005559</td>\n",
       "      <td>0.005563</td>\n",
       "      <td>0.005570</td>\n",
       "      <td>0.005581</td>\n",
       "      <td>0.005597</td>\n",
       "      <td>0.005617</td>\n",
       "      <td>0.005642</td>\n",
       "      <td>0.005672</td>\n",
       "      <td>0.005709</td>\n",
       "      <td>...</td>\n",
       "      <td>0.006832</td>\n",
       "      <td>0.006629</td>\n",
       "      <td>0.006438</td>\n",
       "      <td>0.006259</td>\n",
       "      <td>0.006088</td>\n",
       "      <td>0.005927</td>\n",
       "      <td>0.005773</td>\n",
       "      <td>0.005627</td>\n",
       "      <td>0.005487</td>\n",
       "      <td>0.005353</td>\n",
       "    </tr>\n",
       "  </tbody>\n",
       "</table>\n",
       "<p>5 rows × 100 columns</p>\n",
       "</div>"
      ],
      "text/plain": [
       "      REF                                                              \\\n",
       "0  1.3334  0.005599  0.005607  0.005619  0.005636  0.005658  0.005685   \n",
       "1  1.3351  0.005589  0.005596  0.005606  0.005622  0.005642  0.005667   \n",
       "2  1.3368  0.005579  0.005584  0.005594  0.005608  0.005626  0.005649   \n",
       "3  1.3385  0.005569  0.005573  0.005582  0.005594  0.005611  0.005633   \n",
       "4  1.3402  0.005559  0.005563  0.005570  0.005581  0.005597  0.005617   \n",
       "\n",
       "                                 ...                                          \\\n",
       "0  0.005718  0.005758  0.005805  ...  0.006759  0.006558  0.006369  0.006191   \n",
       "1  0.005698  0.005735  0.005779  ...  0.006777  0.006576  0.006386  0.006208   \n",
       "2  0.005678  0.005713  0.005754  ...  0.006795  0.006593  0.006403  0.006224   \n",
       "3  0.005659  0.005692  0.005731  ...  0.006813  0.006611  0.006421  0.006241   \n",
       "4  0.005642  0.005672  0.005709  ...  0.006832  0.006629  0.006438  0.006259   \n",
       "\n",
       "                                                               \n",
       "0  0.006022  0.005862  0.005710  0.005565  0.005427  0.005294  \n",
       "1  0.006039  0.005878  0.005726  0.005580  0.005441  0.005309  \n",
       "2  0.006055  0.005894  0.005741  0.005596  0.005456  0.005323  \n",
       "3  0.006071  0.005910  0.005757  0.005611  0.005472  0.005338  \n",
       "4  0.006088  0.005927  0.005773  0.005627  0.005487  0.005353  \n",
       "\n",
       "[5 rows x 100 columns]"
      ]
     },
     "execution_count": 3,
     "metadata": {},
     "output_type": "execute_result"
    }
   ],
   "source": [
    "raw_data.columns =['REF'] + [''] * (len(raw_data.columns)-1) #making REF column of refractive index which is our LABEL\n",
    "\n",
    "raw_data.head()"
   ]
  },
  {
   "cell_type": "markdown",
   "id": "cbef5c5c",
   "metadata": {},
   "source": [
    "PLOTTING A ROW"
   ]
  },
  {
   "cell_type": "code",
   "execution_count": 4,
   "id": "65be75ee",
   "metadata": {},
   "outputs": [
    {
     "data": {
      "image/png": "[encoded data removed]",
      "text/plain": [
       "<Figure size 432x288 with 1 Axes>"
      ]
     },
     "metadata": {
      "needs_background": "light"
     },
     "output_type": "display_data"
    }
   ],
   "source": [
    "# r2 = raw_data.iloc[:,1:]\n",
    "x = list(range(1, 100))\n",
    "y = raw_data.iloc[1,1:]\n",
    "plt.plot(x, y)\n",
    "  \n",
    "# naming the x axis\n",
    "plt.xlabel('wavelength')\n",
    "# naming the y axis\n",
    "plt.ylabel('T')\n",
    "  \n",
    "# giving a title to my graph\n",
    "plt.title('plot')\n",
    "  \n",
    "# function to show the plot\n",
    "plt.show()"
   ]
  },
  {
   "cell_type": "code",
   "execution_count": 5,
   "id": "d14aba78",
   "metadata": {},
   "outputs": [
    {
     "name": "stdout",
     "output_type": "stream",
     "text": [
      "0     1.3334\n",
      "1     1.3351\n",
      "2     1.3368\n",
      "3     1.3385\n",
      "4     1.3402\n",
      "       ...  \n",
      "94    1.4932\n",
      "95    1.4949\n",
      "96    1.4966\n",
      "97    1.4983\n",
      "98    1.5000\n",
      "Name: REF, Length: 99, dtype: float64\n"
     ]
    }
   ],
   "source": [
    "y = raw_data['REF'] #Y is our label vector\n",
    "raw_data.drop(['REF'], axis=1, inplace=True)\n",
    "print(y)"
   ]
  },
  {
   "cell_type": "markdown",
   "id": "074066fd",
   "metadata": {},
   "source": [
    "SPLITTING TO TRAIN AND TEST DATA"
   ]
  },
  {
   "cell_type": "code",
   "execution_count": 6,
   "id": "b74932eb",
   "metadata": {},
   "outputs": [],
   "source": [
    "X_train, X_test, y_train, y_test = train_test_split(raw_data, y, test_size=0.1, random_state=42)"
   ]
  },
  {
   "cell_type": "markdown",
   "id": "f66e5cfa",
   "metadata": {},
   "source": [
    "APPLYING RANDOM FOREST REGRESSION MODEL"
   ]
  },
  {
   "cell_type": "code",
   "execution_count": 7,
   "id": "9af6993d",
   "metadata": {},
   "outputs": [
    {
     "data": {
      "text/plain": [
       "0.9996119930361852"
      ]
     },
     "execution_count": 7,
     "metadata": {},
     "output_type": "execute_result"
    }
   ],
   "source": [
    "regr = RandomForestRegressor(n_estimators=5, max_depth=10, max_leaf_nodes=100, min_samples_leaf=1, random_state=4200)\n",
    "m1 = regr.fit(X_train,y_train)\n",
    "m1.score(X_train,y_train)"
   ]
  },
  {
   "cell_type": "markdown",
   "id": "9d544d24",
   "metadata": {},
   "source": [
    "MAKE PREDICTIONS FROM TEST SET"
   ]
  },
  {
   "cell_type": "code",
   "execution_count": 8,
   "id": "5848a9f8",
   "metadata": {},
   "outputs": [],
   "source": [
    "y_pred = (m1.predict(X_test))"
   ]
  },
  {
   "cell_type": "markdown",
   "id": "67f796e8",
   "metadata": {},
   "source": [
    "CALCULATE RMS ERROR"
   ]
  },
  {
   "cell_type": "code",
   "execution_count": 9,
   "id": "665971f9",
   "metadata": {},
   "outputs": [
    {
     "name": "stdout",
     "output_type": "stream",
     "text": [
      "2.2888799999999124e-06\n"
     ]
    }
   ],
   "source": [
    "from sklearn.metrics import mean_squared_error\n",
    "\n",
    "rms = mean_squared_error(y_test, y_pred, squared=True)\n",
    "print(rms)"
   ]
  },
  {
   "cell_type": "markdown",
   "id": "dbfeb31c",
   "metadata": {},
   "source": [
    "PREDICTATED VALUES"
   ]
  },
  {
   "cell_type": "code",
   "execution_count": 10,
   "id": "cdf3e58c",
   "metadata": {},
   "outputs": [
    {
     "data": {
      "text/plain": [
       "array([1.43846, 1.40072, 1.49592, 1.364  , 1.4966 , 1.47654, 1.44254,\n",
       "       1.40548, 1.34938, 1.33748])"
      ]
     },
     "execution_count": 10,
     "metadata": {},
     "output_type": "execute_result"
    }
   ],
   "source": [
    "y_pred"
   ]
  },
  {
   "cell_type": "code",
   "execution_count": 11,
   "id": "91a9a945",
   "metadata": {},
   "outputs": [
    {
     "data": {
      "text/plain": [
       "62    1.4388\n",
       "40    1.4014\n",
       "95    1.4949\n",
       "18    1.3640\n",
       "97    1.4983\n",
       "84    1.4762\n",
       "64    1.4422\n",
       "42    1.4048\n",
       "10    1.3504\n",
       "0     1.3334\n",
       "Name: REF, dtype: float64"
      ]
     },
     "execution_count": 11,
     "metadata": {},
     "output_type": "execute_result"
    }
   ],
   "source": [
    "y_test"
   ]
  },
  {
   "cell_type": "code",
   "execution_count": 45,
   "id": "10dc7a4d",
   "metadata": {},
   "outputs": [
    {
     "data": {
      "image/png": "[encoded data removed]",
      "text/plain": [
       "<Figure size 432x288 with 1 Axes>"
      ]
     },
     "metadata": {
      "needs_background": "light"
     },
     "output_type": "display_data"
    }
   ],
   "source": [
    "plt.scatter(y_test,y_pred, c='coral')\n",
    "plt.xlabel('True Values ')\n",
    "plt.ylabel('Predictions ')\n",
    "# plt.axis('equal')\n",
    "# plt.axis('square')\n",
    "plt.show()\n"
   ]
  },
  {
   "cell_type": "code",
   "execution_count": 44,
   "id": "757d1c71",
   "metadata": {},
   "outputs": [
    {
     "data": {
      "image/png": "[encoded data removed]",
      "text/plain": [
       "<Figure size 432x288 with 1 Axes>"
      ]
     },
     "metadata": {
      "needs_background": "light"
     },
     "output_type": "display_data"
    }
   ],
   "source": [
    "x = np.linspace(0,90,y_test.shape[0])\n",
    "plt.scatter(x, y_pred, color ='red') # red shows predicted\n",
    "plt.scatter(x, y_test, color ='blue')  #blue is actual\n",
    "plt.show()\n",
    "# hence perfect overlap shows good prediction"
   ]
  },
  {
   "cell_type": "code",
   "execution_count": null,
   "id": "c71ddbad",
   "metadata": {},
   "outputs": [],
   "source": []
  }
 ],
 "metadata": {
  "kernelspec": {
   "display_name": "Python 3",
   "language": "python",
   "name": "python3"
  },
  "language_info": {
   "codemirror_mode": {
    "name": "ipython",
    "version": 3
   },
   "file_extension": ".py",
   "mimetype": "text/x-python",
   "name": "python",
   "nbconvert_exporter": "python",
   "pygments_lexer": "ipython3",
   "version": "3.8.8"
  }
 },
 "nbformat": 4,
 "nbformat_minor": 5
}
