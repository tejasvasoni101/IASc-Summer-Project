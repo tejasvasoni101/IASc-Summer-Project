{
 "cells": [
  {
   "cell_type": "markdown",
   "id": "b97c341b",
   "metadata": {},
   "source": [
    "IMPORTING PACKAGES"
   ]
  },
  {
   "cell_type": "code",
   "execution_count": 73,
   "id": "5543d70b",
   "metadata": {},
   "outputs": [],
   "source": [
    "import pandas as pd\n",
    "import numpy as np\n",
    "import matplotlib.pyplot as plt\n",
    "%matplotlib inline\n",
    "from sklearn.model_selection import train_test_split\n",
    "\n",
    "from sklearn import preprocessing\n",
    "\n",
    "from sklearn.ensemble import RandomForestRegressor"
   ]
  },
  {
   "cell_type": "markdown",
   "id": "ac3a60b3",
   "metadata": {},
   "source": [
    "LOADING DATA"
   ]
  },
  {
   "cell_type": "code",
   "execution_count": 74,
   "id": "2501d435",
   "metadata": {
    "scrolled": false
   },
   "outputs": [],
   "source": [
    "raw_data = pd.read_csv('C:/Users/ronin/Google Drive/IAS ML MODEL/BIG DATA/big_dat.csv')\n",
    "# print(raw_data.info())"
   ]
  },
  {
   "cell_type": "code",
   "execution_count": 75,
   "id": "4bfa24fc",
   "metadata": {},
   "outputs": [
    {
     "data": {
      "text/html": [
       "<div>\n",
       "<style scoped>\n",
       "    .dataframe tbody tr th:only-of-type {\n",
       "        vertical-align: middle;\n",
       "    }\n",
       "\n",
       "    .dataframe tbody tr th {\n",
       "        vertical-align: top;\n",
       "    }\n",
       "\n",
       "    .dataframe thead th {\n",
       "        text-align: right;\n",
       "    }\n",
       "</style>\n",
       "<table border=\"1\" class=\"dataframe\">\n",
       "  <thead>\n",
       "    <tr style=\"text-align: right;\">\n",
       "      <th></th>\n",
       "      <th>REF</th>\n",
       "      <th></th>\n",
       "      <th></th>\n",
       "      <th></th>\n",
       "      <th></th>\n",
       "      <th></th>\n",
       "      <th></th>\n",
       "      <th></th>\n",
       "      <th></th>\n",
       "      <th></th>\n",
       "      <th>...</th>\n",
       "      <th></th>\n",
       "      <th></th>\n",
       "      <th></th>\n",
       "      <th></th>\n",
       "      <th></th>\n",
       "      <th></th>\n",
       "      <th></th>\n",
       "      <th></th>\n",
       "      <th></th>\n",
       "      <th></th>\n",
       "    </tr>\n",
       "  </thead>\n",
       "  <tbody>\n",
       "    <tr>\n",
       "      <th>0</th>\n",
       "      <td>1.3008</td>\n",
       "      <td>0.005880</td>\n",
       "      <td>0.005925</td>\n",
       "      <td>0.005982</td>\n",
       "      <td>0.006050</td>\n",
       "      <td>0.006133</td>\n",
       "      <td>0.006233</td>\n",
       "      <td>0.006352</td>\n",
       "      <td>0.006493</td>\n",
       "      <td>0.006653</td>\n",
       "      <td>...</td>\n",
       "      <td>0.006480</td>\n",
       "      <td>0.006284</td>\n",
       "      <td>0.006100</td>\n",
       "      <td>0.005927</td>\n",
       "      <td>0.005764</td>\n",
       "      <td>0.005609</td>\n",
       "      <td>0.005461</td>\n",
       "      <td>0.005321</td>\n",
       "      <td>0.005187</td>\n",
       "      <td>0.005059</td>\n",
       "    </tr>\n",
       "    <tr>\n",
       "      <th>1</th>\n",
       "      <td>1.3012</td>\n",
       "      <td>0.005875</td>\n",
       "      <td>0.005920</td>\n",
       "      <td>0.005975</td>\n",
       "      <td>0.006042</td>\n",
       "      <td>0.006124</td>\n",
       "      <td>0.006222</td>\n",
       "      <td>0.006340</td>\n",
       "      <td>0.006480</td>\n",
       "      <td>0.006640</td>\n",
       "      <td>...</td>\n",
       "      <td>0.006483</td>\n",
       "      <td>0.006287</td>\n",
       "      <td>0.006103</td>\n",
       "      <td>0.005930</td>\n",
       "      <td>0.005767</td>\n",
       "      <td>0.005611</td>\n",
       "      <td>0.005464</td>\n",
       "      <td>0.005324</td>\n",
       "      <td>0.005190</td>\n",
       "      <td>0.005062</td>\n",
       "    </tr>\n",
       "    <tr>\n",
       "      <th>2</th>\n",
       "      <td>1.3016</td>\n",
       "      <td>0.005870</td>\n",
       "      <td>0.005914</td>\n",
       "      <td>0.005968</td>\n",
       "      <td>0.006035</td>\n",
       "      <td>0.006115</td>\n",
       "      <td>0.006212</td>\n",
       "      <td>0.006328</td>\n",
       "      <td>0.006466</td>\n",
       "      <td>0.006627</td>\n",
       "      <td>...</td>\n",
       "      <td>0.006486</td>\n",
       "      <td>0.006290</td>\n",
       "      <td>0.006106</td>\n",
       "      <td>0.005933</td>\n",
       "      <td>0.005770</td>\n",
       "      <td>0.005614</td>\n",
       "      <td>0.005467</td>\n",
       "      <td>0.005327</td>\n",
       "      <td>0.005193</td>\n",
       "      <td>0.005065</td>\n",
       "    </tr>\n",
       "    <tr>\n",
       "      <th>3</th>\n",
       "      <td>1.3020</td>\n",
       "      <td>0.005865</td>\n",
       "      <td>0.005908</td>\n",
       "      <td>0.005962</td>\n",
       "      <td>0.006027</td>\n",
       "      <td>0.006106</td>\n",
       "      <td>0.006201</td>\n",
       "      <td>0.006316</td>\n",
       "      <td>0.006453</td>\n",
       "      <td>0.006613</td>\n",
       "      <td>...</td>\n",
       "      <td>0.006489</td>\n",
       "      <td>0.006293</td>\n",
       "      <td>0.006110</td>\n",
       "      <td>0.005936</td>\n",
       "      <td>0.005772</td>\n",
       "      <td>0.005617</td>\n",
       "      <td>0.005470</td>\n",
       "      <td>0.005329</td>\n",
       "      <td>0.005195</td>\n",
       "      <td>0.005067</td>\n",
       "    </tr>\n",
       "    <tr>\n",
       "      <th>4</th>\n",
       "      <td>1.3024</td>\n",
       "      <td>0.005860</td>\n",
       "      <td>0.005903</td>\n",
       "      <td>0.005955</td>\n",
       "      <td>0.006020</td>\n",
       "      <td>0.006097</td>\n",
       "      <td>0.006191</td>\n",
       "      <td>0.006304</td>\n",
       "      <td>0.006439</td>\n",
       "      <td>0.006598</td>\n",
       "      <td>...</td>\n",
       "      <td>0.006492</td>\n",
       "      <td>0.006297</td>\n",
       "      <td>0.006113</td>\n",
       "      <td>0.005939</td>\n",
       "      <td>0.005775</td>\n",
       "      <td>0.005620</td>\n",
       "      <td>0.005473</td>\n",
       "      <td>0.005332</td>\n",
       "      <td>0.005198</td>\n",
       "      <td>0.005070</td>\n",
       "    </tr>\n",
       "  </tbody>\n",
       "</table>\n",
       "<p>5 rows × 100 columns</p>\n",
       "</div>"
      ],
      "text/plain": [
       "      REF                                                              \\\n",
       "0  1.3008  0.005880  0.005925  0.005982  0.006050  0.006133  0.006233   \n",
       "1  1.3012  0.005875  0.005920  0.005975  0.006042  0.006124  0.006222   \n",
       "2  1.3016  0.005870  0.005914  0.005968  0.006035  0.006115  0.006212   \n",
       "3  1.3020  0.005865  0.005908  0.005962  0.006027  0.006106  0.006201   \n",
       "4  1.3024  0.005860  0.005903  0.005955  0.006020  0.006097  0.006191   \n",
       "\n",
       "                                 ...                                          \\\n",
       "0  0.006352  0.006493  0.006653  ...  0.006480  0.006284  0.006100  0.005927   \n",
       "1  0.006340  0.006480  0.006640  ...  0.006483  0.006287  0.006103  0.005930   \n",
       "2  0.006328  0.006466  0.006627  ...  0.006486  0.006290  0.006106  0.005933   \n",
       "3  0.006316  0.006453  0.006613  ...  0.006489  0.006293  0.006110  0.005936   \n",
       "4  0.006304  0.006439  0.006598  ...  0.006492  0.006297  0.006113  0.005939   \n",
       "\n",
       "                                                               \n",
       "0  0.005764  0.005609  0.005461  0.005321  0.005187  0.005059  \n",
       "1  0.005767  0.005611  0.005464  0.005324  0.005190  0.005062  \n",
       "2  0.005770  0.005614  0.005467  0.005327  0.005193  0.005065  \n",
       "3  0.005772  0.005617  0.005470  0.005329  0.005195  0.005067  \n",
       "4  0.005775  0.005620  0.005473  0.005332  0.005198  0.005070  \n",
       "\n",
       "[5 rows x 100 columns]"
      ]
     },
     "execution_count": 75,
     "metadata": {},
     "output_type": "execute_result"
    }
   ],
   "source": [
    "raw_data.columns =['REF'] + [''] * (len(raw_data.columns)-1) #making REF column of refractive index which is our LABEL\n",
    "\n",
    "raw_data.head()\n"
   ]
  },
  {
   "cell_type": "markdown",
   "id": "cbef5c5c",
   "metadata": {},
   "source": [
    "PLOTTING A ROW"
   ]
  },
  {
   "cell_type": "code",
   "execution_count": 76,
   "id": "65be75ee",
   "metadata": {},
   "outputs": [
    {
     "data": {
      "image/png": "[encoded data removed]",
      "text/plain": [
       "<Figure size 432x288 with 1 Axes>"
      ]
     },
     "metadata": {
      "needs_background": "light"
     },
     "output_type": "display_data"
    }
   ],
   "source": [
    "# r2 = raw_data.iloc[:,1:]\n",
    "x = list(range(1, 100))\n",
    "y = raw_data.iloc[1,1:]\n",
    "plt.plot(x, y)\n",
    "  \n",
    "# naming the x axis\n",
    "plt.xlabel('wavelength')\n",
    "# naming the y axis\n",
    "plt.ylabel('T')\n",
    "  \n",
    "# giving a title to my graph\n",
    "plt.title('plot')\n",
    "  \n",
    "# function to show the plot\n",
    "plt.show()"
   ]
  },
  {
   "cell_type": "code",
   "execution_count": 77,
   "id": "d14aba78",
   "metadata": {},
   "outputs": [
    {
     "name": "stdout",
     "output_type": "stream",
     "text": [
      "0      1.3008\n",
      "1      1.3012\n",
      "2      1.3016\n",
      "3      1.3020\n",
      "4      1.3024\n",
      "        ...  \n",
      "494    1.4984\n",
      "495    1.4988\n",
      "496    1.4992\n",
      "497    1.4996\n",
      "498    1.5000\n",
      "Name: REF, Length: 499, dtype: float64\n"
     ]
    }
   ],
   "source": [
    "y = raw_data['REF'] #Y is our label vector\n",
    "raw_data.drop(['REF'], axis=1, inplace=True)\n",
    "print(y)\n",
    "\n"
   ]
  },
  {
   "cell_type": "code",
   "execution_count": 78,
   "id": "20b74fe6",
   "metadata": {},
   "outputs": [
    {
     "data": {
      "text/html": [
       "<div>\n",
       "<style scoped>\n",
       "    .dataframe tbody tr th:only-of-type {\n",
       "        vertical-align: middle;\n",
       "    }\n",
       "\n",
       "    .dataframe tbody tr th {\n",
       "        vertical-align: top;\n",
       "    }\n",
       "\n",
       "    .dataframe thead th {\n",
       "        text-align: right;\n",
       "    }\n",
       "</style>\n",
       "<table border=\"1\" class=\"dataframe\">\n",
       "  <thead>\n",
       "    <tr style=\"text-align: right;\">\n",
       "      <th></th>\n",
       "      <th>1</th>\n",
       "      <th>2</th>\n",
       "      <th>3</th>\n",
       "      <th>4</th>\n",
       "      <th>5</th>\n",
       "      <th>6</th>\n",
       "      <th>7</th>\n",
       "      <th>8</th>\n",
       "      <th>9</th>\n",
       "      <th>10</th>\n",
       "      <th>...</th>\n",
       "      <th>90</th>\n",
       "      <th>91</th>\n",
       "      <th>92</th>\n",
       "      <th>93</th>\n",
       "      <th>94</th>\n",
       "      <th>95</th>\n",
       "      <th>96</th>\n",
       "      <th>97</th>\n",
       "      <th>98</th>\n",
       "      <th>99</th>\n",
       "    </tr>\n",
       "  </thead>\n",
       "  <tbody>\n",
       "    <tr>\n",
       "      <th>0</th>\n",
       "      <td>0.005880</td>\n",
       "      <td>0.005925</td>\n",
       "      <td>0.005982</td>\n",
       "      <td>0.006050</td>\n",
       "      <td>0.006133</td>\n",
       "      <td>0.006233</td>\n",
       "      <td>0.006352</td>\n",
       "      <td>0.006493</td>\n",
       "      <td>0.006653</td>\n",
       "      <td>0.006793</td>\n",
       "      <td>...</td>\n",
       "      <td>0.006480</td>\n",
       "      <td>0.006284</td>\n",
       "      <td>0.006100</td>\n",
       "      <td>0.005927</td>\n",
       "      <td>0.005764</td>\n",
       "      <td>0.005609</td>\n",
       "      <td>0.005461</td>\n",
       "      <td>0.005321</td>\n",
       "      <td>0.005187</td>\n",
       "      <td>0.005059</td>\n",
       "    </tr>\n",
       "    <tr>\n",
       "      <th>1</th>\n",
       "      <td>0.005875</td>\n",
       "      <td>0.005920</td>\n",
       "      <td>0.005975</td>\n",
       "      <td>0.006042</td>\n",
       "      <td>0.006124</td>\n",
       "      <td>0.006222</td>\n",
       "      <td>0.006340</td>\n",
       "      <td>0.006480</td>\n",
       "      <td>0.006640</td>\n",
       "      <td>0.006794</td>\n",
       "      <td>...</td>\n",
       "      <td>0.006483</td>\n",
       "      <td>0.006287</td>\n",
       "      <td>0.006103</td>\n",
       "      <td>0.005930</td>\n",
       "      <td>0.005767</td>\n",
       "      <td>0.005611</td>\n",
       "      <td>0.005464</td>\n",
       "      <td>0.005324</td>\n",
       "      <td>0.005190</td>\n",
       "      <td>0.005062</td>\n",
       "    </tr>\n",
       "    <tr>\n",
       "      <th>2</th>\n",
       "      <td>0.005870</td>\n",
       "      <td>0.005914</td>\n",
       "      <td>0.005968</td>\n",
       "      <td>0.006035</td>\n",
       "      <td>0.006115</td>\n",
       "      <td>0.006212</td>\n",
       "      <td>0.006328</td>\n",
       "      <td>0.006466</td>\n",
       "      <td>0.006627</td>\n",
       "      <td>0.006791</td>\n",
       "      <td>...</td>\n",
       "      <td>0.006486</td>\n",
       "      <td>0.006290</td>\n",
       "      <td>0.006106</td>\n",
       "      <td>0.005933</td>\n",
       "      <td>0.005770</td>\n",
       "      <td>0.005614</td>\n",
       "      <td>0.005467</td>\n",
       "      <td>0.005327</td>\n",
       "      <td>0.005193</td>\n",
       "      <td>0.005065</td>\n",
       "    </tr>\n",
       "    <tr>\n",
       "      <th>3</th>\n",
       "      <td>0.005865</td>\n",
       "      <td>0.005908</td>\n",
       "      <td>0.005962</td>\n",
       "      <td>0.006027</td>\n",
       "      <td>0.006106</td>\n",
       "      <td>0.006201</td>\n",
       "      <td>0.006316</td>\n",
       "      <td>0.006453</td>\n",
       "      <td>0.006613</td>\n",
       "      <td>0.006783</td>\n",
       "      <td>...</td>\n",
       "      <td>0.006489</td>\n",
       "      <td>0.006293</td>\n",
       "      <td>0.006110</td>\n",
       "      <td>0.005936</td>\n",
       "      <td>0.005772</td>\n",
       "      <td>0.005617</td>\n",
       "      <td>0.005470</td>\n",
       "      <td>0.005329</td>\n",
       "      <td>0.005195</td>\n",
       "      <td>0.005067</td>\n",
       "    </tr>\n",
       "    <tr>\n",
       "      <th>4</th>\n",
       "      <td>0.005860</td>\n",
       "      <td>0.005903</td>\n",
       "      <td>0.005955</td>\n",
       "      <td>0.006020</td>\n",
       "      <td>0.006097</td>\n",
       "      <td>0.006191</td>\n",
       "      <td>0.006304</td>\n",
       "      <td>0.006439</td>\n",
       "      <td>0.006598</td>\n",
       "      <td>0.006773</td>\n",
       "      <td>...</td>\n",
       "      <td>0.006492</td>\n",
       "      <td>0.006297</td>\n",
       "      <td>0.006113</td>\n",
       "      <td>0.005939</td>\n",
       "      <td>0.005775</td>\n",
       "      <td>0.005620</td>\n",
       "      <td>0.005473</td>\n",
       "      <td>0.005332</td>\n",
       "      <td>0.005198</td>\n",
       "      <td>0.005070</td>\n",
       "    </tr>\n",
       "  </tbody>\n",
       "</table>\n",
       "<p>5 rows × 99 columns</p>\n",
       "</div>"
      ],
      "text/plain": [
       "         1         2         3         4         5         6         7   \\\n",
       "0  0.005880  0.005925  0.005982  0.006050  0.006133  0.006233  0.006352   \n",
       "1  0.005875  0.005920  0.005975  0.006042  0.006124  0.006222  0.006340   \n",
       "2  0.005870  0.005914  0.005968  0.006035  0.006115  0.006212  0.006328   \n",
       "3  0.005865  0.005908  0.005962  0.006027  0.006106  0.006201  0.006316   \n",
       "4  0.005860  0.005903  0.005955  0.006020  0.006097  0.006191  0.006304   \n",
       "\n",
       "         8         9         10  ...        90        91        92        93  \\\n",
       "0  0.006493  0.006653  0.006793  ...  0.006480  0.006284  0.006100  0.005927   \n",
       "1  0.006480  0.006640  0.006794  ...  0.006483  0.006287  0.006103  0.005930   \n",
       "2  0.006466  0.006627  0.006791  ...  0.006486  0.006290  0.006106  0.005933   \n",
       "3  0.006453  0.006613  0.006783  ...  0.006489  0.006293  0.006110  0.005936   \n",
       "4  0.006439  0.006598  0.006773  ...  0.006492  0.006297  0.006113  0.005939   \n",
       "\n",
       "         94        95        96        97        98        99  \n",
       "0  0.005764  0.005609  0.005461  0.005321  0.005187  0.005059  \n",
       "1  0.005767  0.005611  0.005464  0.005324  0.005190  0.005062  \n",
       "2  0.005770  0.005614  0.005467  0.005327  0.005193  0.005065  \n",
       "3  0.005772  0.005617  0.005470  0.005329  0.005195  0.005067  \n",
       "4  0.005775  0.005620  0.005473  0.005332  0.005198  0.005070  \n",
       "\n",
       "[5 rows x 99 columns]"
      ]
     },
     "execution_count": 78,
     "metadata": {},
     "output_type": "execute_result"
    }
   ],
   "source": [
    "raw_data.columns =list(range(1,100))  #adding column names as features\n",
    "raw_data.columns\n",
    "raw_data.head()"
   ]
  },
  {
   "cell_type": "markdown",
   "id": "074066fd",
   "metadata": {},
   "source": [
    "SPLITTING TO TRAIN AND TEST DATA"
   ]
  },
  {
   "cell_type": "code",
   "execution_count": 173,
   "id": "b74932eb",
   "metadata": {},
   "outputs": [
    {
     "data": {
      "text/plain": [
       "(399,)"
      ]
     },
     "execution_count": 173,
     "metadata": {},
     "output_type": "execute_result"
    }
   ],
   "source": [
    "X_train, X_test, y_train, y_test = train_test_split(raw_data, y, test_size=0.2, random_state=42)\n",
    "raw_data.shape\n",
    "y_train.shape"
   ]
  },
  {
   "cell_type": "markdown",
   "id": "f66e5cfa",
   "metadata": {},
   "source": [
    "# APPLYING RANDOM FOREST REGRESSION MODEL"
   ]
  },
  {
   "cell_type": "code",
   "execution_count": 174,
   "id": "9af6993d",
   "metadata": {},
   "outputs": [
    {
     "data": {
      "text/plain": [
       "0.999855925686978"
      ]
     },
     "execution_count": 174,
     "metadata": {},
     "output_type": "execute_result"
    }
   ],
   "source": [
    "regr = RandomForestRegressor(n_estimators=3, max_depth=100, max_leaf_nodes=500, min_samples_leaf=1, random_state=4200)\n",
    "m1 = regr.fit(X_train,y_train)\n",
    "m1.score(X_test,y_test)"
   ]
  },
  {
   "cell_type": "markdown",
   "id": "e9ccfb62",
   "metadata": {},
   "source": [
    "# CROSS VALIDATED"
   ]
  },
  {
   "cell_type": "code",
   "execution_count": 193,
   "id": "f647ff72",
   "metadata": {},
   "outputs": [
    {
     "name": "stdout",
     "output_type": "stream",
     "text": [
      "0.9868795740176696\n",
      "0.988476777398903\n",
      "0.9897716049132753\n",
      "0.9909167860482109\n",
      "0.9880294490403972\n",
      "0.9892151955067838\n",
      "0.9850462643639619\n",
      "0.9882777814134562\n",
      "0.9918181075865021\n",
      "0.9879701223180762\n"
     ]
    }
   ],
   "source": [
    "from sklearn import model_selection\n",
    "from sklearn import metrics\n",
    "from sklearn.model_selection import KFold\n",
    "model = RandomForestRegressor(n_estimators=3, max_depth=3, max_leaf_nodes=500, min_samples_leaf=1, random_state=4200)\n",
    "#cv = model_selection.KFold(n_splits=3)\n",
    "\n",
    "kf = KFold(n_splits=10, random_state=4200, shuffle=True)   # shuffling returns good results\n",
    "# kf = KFold(n_splits=2,shuffle=False)  #not shuffling returns worse results hence meaning not generalized\n",
    "kf.get_n_splits(raw_data)\n",
    "                 \n",
    "for train_index, test_index in kf.split(raw_data):\n",
    "#     print(\"TRAIN:\", train_index, \"TEST:\", test_index)\n",
    "    X_train, X_test = raw_data.iloc[train_index], raw_data.iloc[test_index]\n",
    "    y_train, y_test = y.iloc[train_index], y.iloc[test_index]\n",
    "\n",
    "    # For training, fit() is used\n",
    "    m1 = model.fit(X_train, y_train)\n",
    "\n",
    "    # Default metric is R2 for regression, which can be accessed by score()\n",
    "    \n",
    "    print(m1.score(X_test, y_test))"
   ]
  },
  {
   "cell_type": "code",
   "execution_count": 157,
   "id": "398d5454",
   "metadata": {},
   "outputs": [
    {
     "data": {
      "text/plain": [
       "(<49x1525 sparse matrix of type '<class 'numpy.int64'>'\n",
       " \twith 1309 stored elements in Compressed Sparse Row format>,\n",
       " array([   0,  511, 1032, 1525], dtype=int32))"
      ]
     },
     "execution_count": 157,
     "metadata": {},
     "output_type": "execute_result"
    }
   ],
   "source": [
    "regr.decision_path(X_test)"
   ]
  },
  {
   "cell_type": "markdown",
   "id": "fa0cb674",
   "metadata": {},
   "source": [
    "# VISUALIZING TREE"
   ]
  },
  {
   "cell_type": "code",
   "execution_count": 196,
   "id": "afb25844",
   "metadata": {},
   "outputs": [],
   "source": [
    "from sklearn.tree import plot_tree\n",
    "\n",
    "fig = plt.figure(figsize=(15, 10))\n",
    "plot_tree(regr.estimators_[1], \n",
    "          feature_names=X_test.columns, \n",
    "          filled=True, impurity=True, \n",
    "          rounded=True)\n",
    "# it takes average of datapoints at leaf and returns as predicted value"
   ]
  },
  {
   "cell_type": "markdown",
   "id": "9d544d24",
   "metadata": {},
   "source": [
    "MAKE PREDICTIONS FROM TEST SET"
   ]
  },
  {
   "cell_type": "code",
   "execution_count": 189,
   "id": "5848a9f8",
   "metadata": {},
   "outputs": [],
   "source": [
    "y_pred = (m1.predict(X_test))"
   ]
  },
  {
   "cell_type": "markdown",
   "id": "67f796e8",
   "metadata": {},
   "source": [
    "CALCULATE RMS ERROR"
   ]
  },
  {
   "cell_type": "code",
   "execution_count": 183,
   "id": "665971f9",
   "metadata": {},
   "outputs": [
    {
     "name": "stdout",
     "output_type": "stream",
     "text": [
      "8.001334668498421e-07\n"
     ]
    }
   ],
   "source": [
    "from sklearn.metrics import mean_squared_error\n",
    "\n",
    "rms = mean_squared_error(y_test, y_pred, squared=True)\n",
    "print(rms)"
   ]
  },
  {
   "cell_type": "markdown",
   "id": "dbfeb31c",
   "metadata": {},
   "source": [
    "PREDICTATED VALUES"
   ]
  },
  {
   "cell_type": "code",
   "execution_count": 184,
   "id": "cdf3e58c",
   "metadata": {},
   "outputs": [
    {
     "data": {
      "text/plain": [
       "array([1.30775259, 1.31904848, 1.31904848, 1.33292905, 1.33593571,\n",
       "       1.33698333, 1.33997619, 1.3433404 , 1.3449    , 1.35554   ,\n",
       "       1.35650667, 1.35780667, 1.35935   , 1.3648309 , 1.36592296,\n",
       "       1.36592296, 1.36973667, 1.37268571, 1.38671   , 1.39540889,\n",
       "       1.39854444, 1.40069286, 1.40231952, 1.40668571, 1.40885333,\n",
       "       1.41520238, 1.42107333, 1.42350963, 1.43501429, 1.43701984,\n",
       "       1.44334444, 1.4456    , 1.44693333, 1.44776667, 1.44895714,\n",
       "       1.45101524, 1.45802222, 1.45802222, 1.46078889, 1.47305905,\n",
       "       1.47435667, 1.47956429, 1.48095476, 1.48498535, 1.48624672,\n",
       "       1.49468202, 1.49749841, 1.49749841, 1.49749841])"
      ]
     },
     "execution_count": 184,
     "metadata": {},
     "output_type": "execute_result"
    }
   ],
   "source": [
    "y_pred"
   ]
  },
  {
   "cell_type": "code",
   "execution_count": 185,
   "id": "91a9a945",
   "metadata": {},
   "outputs": [
    {
     "data": {
      "text/plain": [
       "17     1.3076\n",
       "44     1.3184\n",
       "47     1.3196\n",
       "78     1.3320\n",
       "87     1.3356\n",
       "91     1.3372\n",
       "94     1.3384\n",
       "109    1.3444\n",
       "111    1.3452\n",
       "138    1.3560\n",
       "139    1.3564\n",
       "142    1.3576\n",
       "147    1.3596\n",
       "160    1.3648\n",
       "163    1.3660\n",
       "167    1.3676\n",
       "168    1.3680\n",
       "180    1.3728\n",
       "215    1.3868\n",
       "236    1.3952\n",
       "244    1.3984\n",
       "249    1.4004\n",
       "259    1.4044\n",
       "260    1.4048\n",
       "269    1.4084\n",
       "285    1.4148\n",
       "302    1.4216\n",
       "305    1.4228\n",
       "339    1.4364\n",
       "340    1.4368\n",
       "357    1.4436\n",
       "360    1.4448\n",
       "366    1.4472\n",
       "369    1.4484\n",
       "372    1.4496\n",
       "373    1.4500\n",
       "392    1.4576\n",
       "396    1.4592\n",
       "397    1.4596\n",
       "431    1.4732\n",
       "434    1.4744\n",
       "449    1.4804\n",
       "450    1.4808\n",
       "458    1.4840\n",
       "462    1.4856\n",
       "483    1.4940\n",
       "493    1.4980\n",
       "495    1.4988\n",
       "498    1.5000\n",
       "Name: REF, dtype: float64"
      ]
     },
     "execution_count": 185,
     "metadata": {},
     "output_type": "execute_result"
    }
   ],
   "source": [
    "y_test"
   ]
  },
  {
   "cell_type": "code",
   "execution_count": 190,
   "id": "10dc7a4d",
   "metadata": {},
   "outputs": [
    {
     "data": {
      "image/png": "[encoded data removed]",
      "text/plain": [
       "<Figure size 432x288 with 1 Axes>"
      ]
     },
     "metadata": {
      "needs_background": "light"
     },
     "output_type": "display_data"
    }
   ],
   "source": [
    "plt.scatter(y_test,y_pred, c='coral')\n",
    "plt.xlabel('True Values ')\n",
    "plt.ylabel('Predictions ')\n",
    "# plt.axis('equal')\n",
    "# plt.axis('square')\n",
    "plt.show()"
   ]
  },
  {
   "cell_type": "code",
   "execution_count": 191,
   "id": "757d1c71",
   "metadata": {},
   "outputs": [
    {
     "data": {
      "image/png": "[encoded data removed]",
      "text/plain": [
       "<Figure size 432x288 with 1 Axes>"
      ]
     },
     "metadata": {
      "needs_background": "light"
     },
     "output_type": "display_data"
    }
   ],
   "source": [
    "x = np.linspace(0,90,y_test.shape[0])\n",
    "plt.scatter(x, y_pred, color ='red') # red shows predicted\n",
    "plt.scatter(x, y_test, color ='blue')  #blue is actual\n",
    "plt.show()\n",
    "# hence perfect overlap shows good prediction"
   ]
  },
  {
   "cell_type": "code",
   "execution_count": null,
   "id": "60732c93",
   "metadata": {},
   "outputs": [],
   "source": []
  }
 ],
 "metadata": {
  "kernelspec": {
   "display_name": "Python 3",
   "language": "python",
   "name": "python3"
  },
  "language_info": {
   "codemirror_mode": {
    "name": "ipython",
    "version": 3
   },
   "file_extension": ".py",
   "mimetype": "text/x-python",
   "name": "python",
   "nbconvert_exporter": "python",
   "pygments_lexer": "ipython3",
   "version": "3.8.8"
  }
 },
 "nbformat": 4,
 "nbformat_minor": 5
}
