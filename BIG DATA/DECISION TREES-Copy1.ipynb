{
 "cells": [
  {
   "cell_type": "markdown",
   "id": "b97c341b",
   "metadata": {},
   "source": [
    "IMPORTING PACKAGES"
   ]
  },
  {
   "cell_type": "code",
   "execution_count": 1,
   "id": "5543d70b",
   "metadata": {},
   "outputs": [],
   "source": [
    "import pandas as pd\n",
    "import numpy as np\n",
    "import matplotlib.pyplot as plt\n",
    "%matplotlib inline\n",
    "from sklearn.model_selection import train_test_split\n",
    "\n",
    "from sklearn import preprocessing\n",
    "\n",
    "from sklearn.ensemble import RandomForestRegressor"
   ]
  },
  {
   "cell_type": "markdown",
   "id": "ac3a60b3",
   "metadata": {},
   "source": [
    "LOADING DATA"
   ]
  },
  {
   "cell_type": "code",
   "execution_count": 2,
   "id": "2501d435",
   "metadata": {
    "scrolled": false
   },
   "outputs": [],
   "source": [
    "raw_data = pd.read_csv('C:/Users/ronin/Google Drive/IAS ML MODEL/p2/BIG DATA/big_dat.csv')\n",
    "# print(raw_data.info())"
   ]
  },
  {
   "cell_type": "code",
   "execution_count": 3,
   "id": "4bfa24fc",
   "metadata": {},
   "outputs": [
    {
     "data": {
      "text/html": [
       "<div>\n",
       "<style scoped>\n",
       "    .dataframe tbody tr th:only-of-type {\n",
       "        vertical-align: middle;\n",
       "    }\n",
       "\n",
       "    .dataframe tbody tr th {\n",
       "        vertical-align: top;\n",
       "    }\n",
       "\n",
       "    .dataframe thead th {\n",
       "        text-align: right;\n",
       "    }\n",
       "</style>\n",
       "<table border=\"1\" class=\"dataframe\">\n",
       "  <thead>\n",
       "    <tr style=\"text-align: right;\">\n",
       "      <th></th>\n",
       "      <th>REF</th>\n",
       "      <th></th>\n",
       "      <th></th>\n",
       "      <th></th>\n",
       "      <th></th>\n",
       "      <th></th>\n",
       "      <th></th>\n",
       "      <th></th>\n",
       "      <th></th>\n",
       "      <th></th>\n",
       "      <th>...</th>\n",
       "      <th></th>\n",
       "      <th></th>\n",
       "      <th></th>\n",
       "      <th></th>\n",
       "      <th></th>\n",
       "      <th></th>\n",
       "      <th></th>\n",
       "      <th></th>\n",
       "      <th></th>\n",
       "      <th></th>\n",
       "    </tr>\n",
       "  </thead>\n",
       "  <tbody>\n",
       "    <tr>\n",
       "      <th>0</th>\n",
       "      <td>1.3008</td>\n",
       "      <td>0.005880</td>\n",
       "      <td>0.005925</td>\n",
       "      <td>0.005982</td>\n",
       "      <td>0.006050</td>\n",
       "      <td>0.006133</td>\n",
       "      <td>0.006233</td>\n",
       "      <td>0.006352</td>\n",
       "      <td>0.006493</td>\n",
       "      <td>0.006653</td>\n",
       "      <td>...</td>\n",
       "      <td>0.006480</td>\n",
       "      <td>0.006284</td>\n",
       "      <td>0.006100</td>\n",
       "      <td>0.005927</td>\n",
       "      <td>0.005764</td>\n",
       "      <td>0.005609</td>\n",
       "      <td>0.005461</td>\n",
       "      <td>0.005321</td>\n",
       "      <td>0.005187</td>\n",
       "      <td>0.005059</td>\n",
       "    </tr>\n",
       "    <tr>\n",
       "      <th>1</th>\n",
       "      <td>1.3012</td>\n",
       "      <td>0.005875</td>\n",
       "      <td>0.005920</td>\n",
       "      <td>0.005975</td>\n",
       "      <td>0.006042</td>\n",
       "      <td>0.006124</td>\n",
       "      <td>0.006222</td>\n",
       "      <td>0.006340</td>\n",
       "      <td>0.006480</td>\n",
       "      <td>0.006640</td>\n",
       "      <td>...</td>\n",
       "      <td>0.006483</td>\n",
       "      <td>0.006287</td>\n",
       "      <td>0.006103</td>\n",
       "      <td>0.005930</td>\n",
       "      <td>0.005767</td>\n",
       "      <td>0.005611</td>\n",
       "      <td>0.005464</td>\n",
       "      <td>0.005324</td>\n",
       "      <td>0.005190</td>\n",
       "      <td>0.005062</td>\n",
       "    </tr>\n",
       "    <tr>\n",
       "      <th>2</th>\n",
       "      <td>1.3016</td>\n",
       "      <td>0.005870</td>\n",
       "      <td>0.005914</td>\n",
       "      <td>0.005968</td>\n",
       "      <td>0.006035</td>\n",
       "      <td>0.006115</td>\n",
       "      <td>0.006212</td>\n",
       "      <td>0.006328</td>\n",
       "      <td>0.006466</td>\n",
       "      <td>0.006627</td>\n",
       "      <td>...</td>\n",
       "      <td>0.006486</td>\n",
       "      <td>0.006290</td>\n",
       "      <td>0.006106</td>\n",
       "      <td>0.005933</td>\n",
       "      <td>0.005770</td>\n",
       "      <td>0.005614</td>\n",
       "      <td>0.005467</td>\n",
       "      <td>0.005327</td>\n",
       "      <td>0.005193</td>\n",
       "      <td>0.005065</td>\n",
       "    </tr>\n",
       "    <tr>\n",
       "      <th>3</th>\n",
       "      <td>1.3020</td>\n",
       "      <td>0.005865</td>\n",
       "      <td>0.005908</td>\n",
       "      <td>0.005962</td>\n",
       "      <td>0.006027</td>\n",
       "      <td>0.006106</td>\n",
       "      <td>0.006201</td>\n",
       "      <td>0.006316</td>\n",
       "      <td>0.006453</td>\n",
       "      <td>0.006613</td>\n",
       "      <td>...</td>\n",
       "      <td>0.006489</td>\n",
       "      <td>0.006293</td>\n",
       "      <td>0.006110</td>\n",
       "      <td>0.005936</td>\n",
       "      <td>0.005772</td>\n",
       "      <td>0.005617</td>\n",
       "      <td>0.005470</td>\n",
       "      <td>0.005329</td>\n",
       "      <td>0.005195</td>\n",
       "      <td>0.005067</td>\n",
       "    </tr>\n",
       "    <tr>\n",
       "      <th>4</th>\n",
       "      <td>1.3024</td>\n",
       "      <td>0.005860</td>\n",
       "      <td>0.005903</td>\n",
       "      <td>0.005955</td>\n",
       "      <td>0.006020</td>\n",
       "      <td>0.006097</td>\n",
       "      <td>0.006191</td>\n",
       "      <td>0.006304</td>\n",
       "      <td>0.006439</td>\n",
       "      <td>0.006598</td>\n",
       "      <td>...</td>\n",
       "      <td>0.006492</td>\n",
       "      <td>0.006297</td>\n",
       "      <td>0.006113</td>\n",
       "      <td>0.005939</td>\n",
       "      <td>0.005775</td>\n",
       "      <td>0.005620</td>\n",
       "      <td>0.005473</td>\n",
       "      <td>0.005332</td>\n",
       "      <td>0.005198</td>\n",
       "      <td>0.005070</td>\n",
       "    </tr>\n",
       "  </tbody>\n",
       "</table>\n",
       "<p>5 rows × 100 columns</p>\n",
       "</div>"
      ],
      "text/plain": [
       "      REF                                                              \\\n",
       "0  1.3008  0.005880  0.005925  0.005982  0.006050  0.006133  0.006233   \n",
       "1  1.3012  0.005875  0.005920  0.005975  0.006042  0.006124  0.006222   \n",
       "2  1.3016  0.005870  0.005914  0.005968  0.006035  0.006115  0.006212   \n",
       "3  1.3020  0.005865  0.005908  0.005962  0.006027  0.006106  0.006201   \n",
       "4  1.3024  0.005860  0.005903  0.005955  0.006020  0.006097  0.006191   \n",
       "\n",
       "                                 ...                                          \\\n",
       "0  0.006352  0.006493  0.006653  ...  0.006480  0.006284  0.006100  0.005927   \n",
       "1  0.006340  0.006480  0.006640  ...  0.006483  0.006287  0.006103  0.005930   \n",
       "2  0.006328  0.006466  0.006627  ...  0.006486  0.006290  0.006106  0.005933   \n",
       "3  0.006316  0.006453  0.006613  ...  0.006489  0.006293  0.006110  0.005936   \n",
       "4  0.006304  0.006439  0.006598  ...  0.006492  0.006297  0.006113  0.005939   \n",
       "\n",
       "                                                               \n",
       "0  0.005764  0.005609  0.005461  0.005321  0.005187  0.005059  \n",
       "1  0.005767  0.005611  0.005464  0.005324  0.005190  0.005062  \n",
       "2  0.005770  0.005614  0.005467  0.005327  0.005193  0.005065  \n",
       "3  0.005772  0.005617  0.005470  0.005329  0.005195  0.005067  \n",
       "4  0.005775  0.005620  0.005473  0.005332  0.005198  0.005070  \n",
       "\n",
       "[5 rows x 100 columns]"
      ]
     },
     "execution_count": 3,
     "metadata": {},
     "output_type": "execute_result"
    }
   ],
   "source": [
    "raw_data.columns =['REF'] + [''] * (len(raw_data.columns)-1) #making REF column of refractive index which is our LABEL\n",
    "\n",
    "raw_data.head()"
   ]
  },
  {
   "cell_type": "markdown",
   "id": "cbef5c5c",
   "metadata": {},
   "source": [
    "PLOTTING A ROW"
   ]
  },
  {
   "cell_type": "code",
   "execution_count": 4,
   "id": "65be75ee",
   "metadata": {},
   "outputs": [
    {
     "data": {
      "image/png": "[encoded data removed]",
      "text/plain": [
       "<Figure size 432x288 with 1 Axes>"
      ]
     },
     "metadata": {
      "needs_background": "light"
     },
     "output_type": "display_data"
    }
   ],
   "source": [
    "# r2 = raw_data.iloc[:,1:]\n",
    "x = list(range(1, 100))\n",
    "y = raw_data.iloc[1,1:]\n",
    "plt.plot(x, y)\n",
    "  \n",
    "# naming the x axis\n",
    "plt.xlabel('wavelength')\n",
    "# naming the y axis\n",
    "plt.ylabel('T')\n",
    "  \n",
    "# giving a title to my graph\n",
    "plt.title('plot')\n",
    "  \n",
    "# function to show the plot\n",
    "plt.show()"
   ]
  },
  {
   "cell_type": "code",
   "execution_count": 5,
   "id": "d14aba78",
   "metadata": {},
   "outputs": [
    {
     "name": "stdout",
     "output_type": "stream",
     "text": [
      "0      1.3008\n",
      "1      1.3012\n",
      "2      1.3016\n",
      "3      1.3020\n",
      "4      1.3024\n",
      "        ...  \n",
      "494    1.4984\n",
      "495    1.4988\n",
      "496    1.4992\n",
      "497    1.4996\n",
      "498    1.5000\n",
      "Name: REF, Length: 499, dtype: float64\n"
     ]
    }
   ],
   "source": [
    "y = raw_data['REF'] #Y is our label vector\n",
    "raw_data.drop(['REF'], axis=1, inplace=True)\n",
    "print(y)"
   ]
  },
  {
   "cell_type": "markdown",
   "id": "074066fd",
   "metadata": {},
   "source": [
    "SPLITTING TO TRAIN AND TEST DATA"
   ]
  },
  {
   "cell_type": "code",
   "execution_count": 6,
   "id": "b74932eb",
   "metadata": {},
   "outputs": [],
   "source": [
    "X_train, X_test, y_train, y_test = train_test_split(raw_data, y, test_size=0.2, random_state=42)"
   ]
  },
  {
   "cell_type": "markdown",
   "id": "f66e5cfa",
   "metadata": {},
   "source": [
    "APPLYING RANDOM FOREST REGRESSION MODEL"
   ]
  },
  {
   "cell_type": "code",
   "execution_count": 25,
   "id": "9af6993d",
   "metadata": {},
   "outputs": [
    {
     "data": {
      "text/plain": [
       "0.9929593370081103"
      ]
     },
     "execution_count": 25,
     "metadata": {},
     "output_type": "execute_result"
    }
   ],
   "source": [
    "regr = RandomForestRegressor(n_estimators=3, max_depth=4, max_leaf_nodes=10, min_samples_leaf=1, random_state=4200)\n",
    "m1 = regr.fit(X_train,y_train)\n",
    "m1.score(X_train,y_train)"
   ]
  },
  {
   "cell_type": "markdown",
   "id": "9d544d24",
   "metadata": {},
   "source": [
    "MAKE PREDICTIONS FROM TEST SET"
   ]
  },
  {
   "cell_type": "code",
   "execution_count": 26,
   "id": "5848a9f8",
   "metadata": {},
   "outputs": [],
   "source": [
    "y_pred = (m1.predict(X_test))"
   ]
  },
  {
   "cell_type": "markdown",
   "id": "67f796e8",
   "metadata": {},
   "source": [
    "CALCULATE RMS ERROR"
   ]
  },
  {
   "cell_type": "code",
   "execution_count": 27,
   "id": "665971f9",
   "metadata": {},
   "outputs": [
    {
     "name": "stdout",
     "output_type": "stream",
     "text": [
      "3.1499552330297355e-05\n"
     ]
    }
   ],
   "source": [
    "from sklearn.metrics import mean_squared_error\n",
    "\n",
    "rms = mean_squared_error(y_test, y_pred, squared=True)\n",
    "print(rms)"
   ]
  },
  {
   "cell_type": "markdown",
   "id": "dbfeb31c",
   "metadata": {},
   "source": [
    "PREDICTATED VALUES"
   ]
  },
  {
   "cell_type": "code",
   "execution_count": 28,
   "id": "cdf3e58c",
   "metadata": {},
   "outputs": [
    {
     "data": {
      "text/plain": [
       "array([1.48760901, 1.33481868, 1.39351248, 1.36724919, 1.39351248,\n",
       "       1.46438778, 1.36724919, 1.31861102, 1.43913031, 1.30954123,\n",
       "       1.34219202, 1.41397576, 1.43913031, 1.37920589, 1.34219202,\n",
       "       1.46438778, 1.48760901, 1.30954123, 1.36286779, 1.48760901,\n",
       "       1.41397576, 1.41397576, 1.48760901, 1.33481868, 1.31861102,\n",
       "       1.34219202, 1.44665385, 1.48760901, 1.34219202, 1.32551936,\n",
       "       1.48760901, 1.34219202, 1.36286779, 1.30954123, 1.43913031,\n",
       "       1.34219202, 1.38471678, 1.36724919, 1.48128809, 1.41397576,\n",
       "       1.38471678, 1.48760901, 1.31362328, 1.43007294, 1.30954123,\n",
       "       1.30954123, 1.43913031, 1.36724919, 1.34219202, 1.43913031,\n",
       "       1.41397576, 1.48760901, 1.45993137, 1.34219202, 1.30954123,\n",
       "       1.43913031, 1.46438778, 1.48760901, 1.4736762 , 1.38885858,\n",
       "       1.46438778, 1.31861102, 1.48760901, 1.38471678, 1.41397576,\n",
       "       1.36286779, 1.43913031, 1.33481868, 1.48760901, 1.39989978,\n",
       "       1.48760901, 1.36286779, 1.34219202, 1.33481868, 1.48760901,\n",
       "       1.41397576, 1.39351248, 1.34219202, 1.34219202, 1.48760901,\n",
       "       1.43007294, 1.48760901, 1.355295  , 1.48760901, 1.41397576,\n",
       "       1.34753217, 1.43913031, 1.4736762 , 1.355295  , 1.41397576,\n",
       "       1.43913031, 1.34219202, 1.32983093, 1.48128809, 1.30954123,\n",
       "       1.39989978, 1.45993137, 1.30954123, 1.43007294, 1.43913031])"
      ]
     },
     "execution_count": 28,
     "metadata": {},
     "output_type": "execute_result"
    }
   ],
   "source": [
    "y_pred"
   ]
  },
  {
   "cell_type": "code",
   "execution_count": 29,
   "id": "91a9a945",
   "metadata": {},
   "outputs": [
    {
     "data": {
      "text/plain": [
       "460    1.4848\n",
       "73     1.3300\n",
       "231    1.3932\n",
       "175    1.3708\n",
       "237    1.3956\n",
       "        ...  \n",
       "247    1.3996\n",
       "384    1.4544\n",
       "19     1.3084\n",
       "321    1.4292\n",
       "331    1.4332\n",
       "Name: REF, Length: 100, dtype: float64"
      ]
     },
     "execution_count": 29,
     "metadata": {},
     "output_type": "execute_result"
    }
   ],
   "source": [
    "\n",
    "y_test"
   ]
  },
  {
   "cell_type": "code",
   "execution_count": 30,
   "id": "10dc7a4d",
   "metadata": {},
   "outputs": [
    {
     "data": {
      "image/png": "[encoded data removed]",
      "text/plain": [
       "<Figure size 432x288 with 1 Axes>"
      ]
     },
     "metadata": {
      "needs_background": "light"
     },
     "output_type": "display_data"
    }
   ],
   "source": [
    "plt.scatter(y_test,y_pred, c='coral')\n",
    "plt.xlabel('True Values ')\n",
    "plt.ylabel('Predictions ')\n",
    "# plt.axis('equal')\n",
    "# plt.axis('square')\n",
    "plt.show()\n"
   ]
  },
  {
   "cell_type": "code",
   "execution_count": 31,
   "id": "757d1c71",
   "metadata": {},
   "outputs": [
    {
     "data": {
      "image/png": "[encoded data removed]",
      "text/plain": [
       "<Figure size 432x288 with 1 Axes>"
      ]
     },
     "metadata": {
      "needs_background": "light"
     },
     "output_type": "display_data"
    }
   ],
   "source": [
    "x = np.linspace(0,90,y_test.shape[0])\n",
    "plt.scatter(x, y_pred, color ='red') # red shows predicted\n",
    "plt.scatter(x, y_test, color ='blue')  #blue is actual\n",
    "plt.show()\n",
    "# hence perfect overlap shows good prediction"
   ]
  },
  {
   "cell_type": "code",
   "execution_count": null,
   "id": "c71ddbad",
   "metadata": {},
   "outputs": [],
   "source": []
  }
 ],
 "metadata": {
  "kernelspec": {
   "display_name": "Python 3",
   "language": "python",
   "name": "python3"
  },
  "language_info": {
   "codemirror_mode": {
    "name": "ipython",
    "version": 3
   },
   "file_extension": ".py",
   "mimetype": "text/x-python",
   "name": "python",
   "nbconvert_exporter": "python",
   "pygments_lexer": "ipython3",
   "version": "3.8.8"
  }
 },
 "nbformat": 4,
 "nbformat_minor": 5
}
